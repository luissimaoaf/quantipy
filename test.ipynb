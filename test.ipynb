{
 "cells": [
  {
   "cell_type": "code",
   "execution_count": 2,
   "metadata": {},
   "outputs": [
    {
     "name": "stdout",
     "output_type": "stream",
     "text": [
      "Currency:  USD\n",
      "Is cash?:  True\n",
      "\n",
      "\n",
      "Stock name:  Apple\n",
      "Symbol:  AAPL\n",
      "Is cash?:  False\n"
     ]
    }
   ],
   "source": [
    "from quantipy.assets import Currency, Equity\n",
    "\n",
    "usd = Currency('USD')\n",
    "print('Currency: ', usd.currency)\n",
    "print('Is cash?: ', usd.is_cash)\n",
    "\n",
    "print('\\n')\n",
    "\n",
    "aapl = Equity(name='Apple', symbol='AAPL')\n",
    "print('Stock name: ', aapl.name)\n",
    "print('Symbol: ', aapl.symbol)\n",
    "print('Is cash?: ', aapl.is_cash)"
   ]
  },
  {
   "cell_type": "code",
   "execution_count": 3,
   "metadata": {},
   "outputs": [],
   "source": [
    "from quantipy.trading import Order, Trade, Position, Broker\n",
    "\n",
    "eur = Currency('EUR')\n",
    "cash_position = Position(eur, 10_000)\n",
    "\n",
    "boeing = Equity('Boeing', 'BA')\n",
    "boeing_position = Position(boeing, 10_000)\n",
    "\n",
    "my_broker = Broker(data=[], cash=10_000, currency=usd)\n",
    "\n",
    "# my_broker = Broker(data=[], cash=boeing_position)\n",
    "# Cash position must be given, the line above would lead to a type error"
   ]
  },
  {
   "cell_type": "code",
   "execution_count": 1,
   "metadata": {},
   "outputs": [
    {
     "data": {
      "text/plain": [
       "2"
      ]
     },
     "execution_count": 1,
     "metadata": {},
     "output_type": "execute_result"
    }
   ],
   "source": [
    "2 or 3"
   ]
  },
  {
   "cell_type": "code",
   "execution_count": 4,
   "metadata": {},
   "outputs": [
    {
     "data": {
      "text/plain": [
       "3"
      ]
     },
     "execution_count": 4,
     "metadata": {},
     "output_type": "execute_result"
    }
   ],
   "source": [
    "None or 3"
   ]
  }
 ],
 "metadata": {
  "kernelspec": {
   "display_name": "tf",
   "language": "python",
   "name": "python3"
  },
  "language_info": {
   "codemirror_mode": {
    "name": "ipython",
    "version": 3
   },
   "file_extension": ".py",
   "mimetype": "text/x-python",
   "name": "python",
   "nbconvert_exporter": "python",
   "pygments_lexer": "ipython3",
   "version": "3.11.5"
  }
 },
 "nbformat": 4,
 "nbformat_minor": 2
}
