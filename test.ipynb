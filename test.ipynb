{
 "cells": [
  {
   "cell_type": "code",
   "execution_count": 1,
   "metadata": {},
   "outputs": [
    {
     "name": "stdout",
     "output_type": "stream",
     "text": [
      "Currency:  USD\n",
      "Is cash?:  True\n",
      "\n",
      "\n",
      "Stock name:  Apple\n",
      "Symbol:  AAPL\n",
      "Is cash?:  False\n"
     ]
    }
   ],
   "source": [
    "from quantipy.assets import Currency, Equity\n",
    "from quantipy.trading import Position\n",
    "\n",
    "# Creating a currency object\n",
    "usd = Currency('USD')\n",
    "print('Currency: ', usd.currency)\n",
    "print('Is cash?: ', usd.is_cash)\n",
    "\n",
    "print('\\n')\n",
    "\n",
    "# Creating an Equity object\n",
    "aapl = Equity(name='Apple', symbol='AAPL')\n",
    "print('Stock name: ', aapl.name)\n",
    "print('Symbol: ', aapl.symbol)\n",
    "print('Is cash?: ', aapl.is_cash)\n",
    "\n",
    "# Creating positions\n",
    "eur = Currency('EUR')\n",
    "cash_position = Position(eur, 10_000)\n",
    "boeing = Equity('Boeing', 'BA')\n",
    "boeing_position = Position(boeing, 10_000)"
   ]
  },
  {
   "cell_type": "code",
   "execution_count": 2,
   "metadata": {},
   "outputs": [],
   "source": [
    "from quantipy.trading import Order, Trade, Broker\n",
    "import yfinance as yf\n",
    "\n",
    "ba = yf.ticker.Ticker('BA')\n",
    "data1 = ba.history()\n",
    "aapl = yf.ticker.Ticker('AAPL')\n",
    "data2 = aapl.history()\n",
    "data = {'BA':data1, 'AAPL':data2}"
   ]
  },
  {
   "cell_type": "code",
   "execution_count": 3,
   "metadata": {},
   "outputs": [
    {
     "name": "stdout",
     "output_type": "stream",
     "text": [
      "Outstanding orders:  [<quantipy.trading.Order object at 0x7f0f2d230510>]\n"
     ]
    }
   ],
   "source": [
    "# Creating our broker with 10k euros initial capital\n",
    "my_broker = Broker(data=data, initial_capital=10_000, currency=eur)\n",
    "\n",
    "# Creating a new order for half of our equity on Boeing\n",
    "my_broker._new_order(0, boeing, 0.5)\n",
    "print('Outstanding orders: ', my_broker.orders)\n",
    "my_broker._process_orders()"
   ]
  },
  {
   "cell_type": "code",
   "execution_count": 4,
   "metadata": {},
   "outputs": [
    {
     "name": "stdout",
     "output_type": "stream",
     "text": [
      "Outstanding orders:  []\n",
      "Open trades:  [<quantipy.trading.Trade object at 0x7f0ee4f93e90>]\n",
      "Open positions:  []\n"
     ]
    }
   ],
   "source": [
    "print('Outstanding orders: ', my_broker.orders)\n",
    "print('Open trades: ', my_broker.trades)\n",
    "print('Open positions: ', my_broker.positions)"
   ]
  },
  {
   "cell_type": "code",
   "execution_count": 5,
   "metadata": {},
   "outputs": [],
   "source": [
    "current_trade = my_broker.trades[0]\n",
    "\n",
    "my_broker._new_order(1, boeing, -15, parent_trade=current_trade)\n",
    "my_broker.orders\n",
    "\n",
    "my_broker._process_orders()"
   ]
  },
  {
   "cell_type": "code",
   "execution_count": 6,
   "metadata": {},
   "outputs": [
    {
     "data": {
      "text/plain": [
       "14.0"
      ]
     },
     "execution_count": 6,
     "metadata": {},
     "output_type": "execute_result"
    }
   ],
   "source": [
    "current_trade.size"
   ]
  },
  {
   "cell_type": "code",
   "execution_count": 7,
   "metadata": {},
   "outputs": [
    {
     "data": {
      "text/plain": [
       "<quantipy.trading.Order at 0x7f0edb1f34d0>"
      ]
     },
     "execution_count": 7,
     "metadata": {},
     "output_type": "execute_result"
    }
   ],
   "source": [
    "my_broker.orders\n",
    "my_broker._new_order(1, boeing, -14, parent_trade=current_trade)\n"
   ]
  },
  {
   "cell_type": "code",
   "execution_count": 8,
   "metadata": {},
   "outputs": [
    {
     "data": {
      "text/plain": [
       "[<quantipy.trading.Trade at 0x7f0edae97b10>,\n",
       " <quantipy.trading.Trade at 0x7f0ee4f93e90>]"
      ]
     },
     "execution_count": 8,
     "metadata": {},
     "output_type": "execute_result"
    }
   ],
   "source": [
    "my_broker._process_orders()\n",
    "\n",
    "my_broker.trades\n",
    "my_broker.closed_trades"
   ]
  },
  {
   "cell_type": "code",
   "execution_count": 9,
   "metadata": {},
   "outputs": [
    {
     "ename": "IndexError",
     "evalue": "index 20 is out of bounds for axis 0 with size 20",
     "output_type": "error",
     "traceback": [
      "\u001b[0;31m---------------------------------------------------------------------------\u001b[0m",
      "\u001b[0;31mIndexError\u001b[0m                                Traceback (most recent call last)",
      "Cell \u001b[0;32mIn[9], line 7\u001b[0m\n\u001b[1;32m      4\u001b[0m strategy \u001b[38;5;241m=\u001b[39m Strategy()\n\u001b[1;32m      5\u001b[0m backtester \u001b[38;5;241m=\u001b[39m Backtester(data,strategy)\n\u001b[0;32m----> 7\u001b[0m \u001b[43mbacktester\u001b[49m\u001b[38;5;241;43m.\u001b[39;49m\u001b[43mrun\u001b[49m\u001b[43m(\u001b[49m\u001b[43m)\u001b[49m\n",
      "File \u001b[0;32m~/self/dev/quantipy/quantipy/backtest.py:77\u001b[0m, in \u001b[0;36mBacktester.run\u001b[0;34m(self)\u001b[0m\n\u001b[1;32m     74\u001b[0m broker\u001b[38;5;241m.\u001b[39m_process_orders()\n\u001b[1;32m     76\u001b[0m \u001b[38;5;66;03m# Update equity\u001b[39;00m\n\u001b[0;32m---> 77\u001b[0m \u001b[38;5;28;43mself\u001b[39;49m\u001b[38;5;241;43m.\u001b[39;49m\u001b[43m__equity\u001b[49m\u001b[43m[\u001b[49m\u001b[43mi\u001b[49m\u001b[43m]\u001b[49m \u001b[38;5;241m=\u001b[39m broker\u001b[38;5;241m.\u001b[39mequity\n\u001b[1;32m     79\u001b[0m \u001b[38;5;66;03m# Run strategy on new tick\u001b[39;00m\n\u001b[1;32m     80\u001b[0m \u001b[38;5;28mself\u001b[39m\u001b[38;5;241m.\u001b[39m__strategy\u001b[38;5;241m.\u001b[39mnext(broker)\n",
      "\u001b[0;31mIndexError\u001b[0m: index 20 is out of bounds for axis 0 with size 20"
     ]
    }
   ],
   "source": [
    "from quantipy.trading import Strategy\n",
    "from quantipy.backtest import Backtester\n",
    "\n",
    "strategy = Strategy()\n",
    "backtester = Backtester(data,strategy)\n",
    "\n",
    "backtester.run()\n"
   ]
  },
  {
   "cell_type": "code",
   "execution_count": null,
   "metadata": {},
   "outputs": [
    {
     "name": "stdout",
     "output_type": "stream",
     "text": [
      "a\n",
      "1\n",
      "b\n",
      "2\n"
     ]
    },
    {
     "data": {
      "text/plain": [
       "[1, 2]"
      ]
     },
     "execution_count": 10,
     "metadata": {},
     "output_type": "execute_result"
    }
   ],
   "source": [
    "x = {'a':1, 'b':2}\n",
    "for k, v in x.items():\n",
    "    print(k)\n",
    "    print(v)\n",
    "    \n",
    "list(x.values())"
   ]
  }
 ],
 "metadata": {
  "kernelspec": {
   "display_name": "tf",
   "language": "python",
   "name": "python3"
  },
  "language_info": {
   "codemirror_mode": {
    "name": "ipython",
    "version": 3
   },
   "file_extension": ".py",
   "mimetype": "text/x-python",
   "name": "python",
   "nbconvert_exporter": "python",
   "pygments_lexer": "ipython3",
   "version": "3.11.5"
  }
 },
 "nbformat": 4,
 "nbformat_minor": 2
}
