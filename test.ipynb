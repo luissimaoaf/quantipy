{
 "cells": [
  {
   "cell_type": "code",
   "execution_count": 1,
   "metadata": {},
   "outputs": [
    {
     "name": "stdout",
     "output_type": "stream",
     "text": [
      "Currency:  USD\n",
      "Is cash?:  True\n",
      "\n",
      "\n",
      "Stock name:  Apple\n",
      "Symbol:  AAPL\n",
      "Is cash?:  False\n"
     ]
    }
   ],
   "source": [
    "from quantipy.assets import Currency, Equity\n",
    "from quantipy.trading import Position\n",
    "\n",
    "# Creating a currency object\n",
    "usd = Currency('USD')\n",
    "print('Currency: ', usd.currency)\n",
    "print('Is cash?: ', usd.is_cash)\n",
    "\n",
    "print('\\n')\n",
    "\n",
    "# Creating an Equity object\n",
    "aapl = Equity(name='Apple', symbol='AAPL')\n",
    "print('Stock name: ', aapl.name)\n",
    "print('Symbol: ', aapl.symbol)\n",
    "print('Is cash?: ', aapl.is_cash)\n",
    "\n",
    "# Creating positions\n",
    "eur = Currency('EUR')\n",
    "cash_position = Position(eur, 10_000)\n",
    "boeing = Equity('Boeing', 'BA')\n",
    "boeing_position = Position(boeing, 10_000)"
   ]
  },
  {
   "cell_type": "code",
   "execution_count": 2,
   "metadata": {},
   "outputs": [],
   "source": [
    "from quantipy.trading import Order, Trade, Broker\n",
    "import yfinance as yf\n",
    "\n",
    "ba = yf.ticker.Ticker('BA')\n",
    "data1 = ba.history()\n",
    "aapl = yf.ticker.Ticker('AAPL')\n",
    "data2 = aapl.history()\n",
    "data = {'BA':data1, 'AAPL':data2}"
   ]
  },
  {
   "cell_type": "code",
   "execution_count": 3,
   "metadata": {},
   "outputs": [
    {
     "name": "stdout",
     "output_type": "stream",
     "text": [
      "Outstanding orders:  [<quantipy.trading.Order object at 0x7f4c2a53a090>]\n"
     ]
    }
   ],
   "source": [
    "# Creating our broker with 10k euros initial capital\n",
    "my_broker = Broker(data=data, initial_capital=10_000, currency=eur)\n",
    "\n",
    "# Creating a new order for half of our equity on Boeing\n",
    "my_broker._new_order(0, boeing, 0.5)\n",
    "print('Outstanding orders: ', my_broker.orders)\n",
    "my_broker._process_orders()"
   ]
  },
  {
   "cell_type": "code",
   "execution_count": 4,
   "metadata": {},
   "outputs": [
    {
     "name": "stdout",
     "output_type": "stream",
     "text": [
      "Outstanding orders:  []\n",
      "Open trades:  [<quantipy.trading.Trade object at 0x7f4bd5da6090>]\n",
      "Open positions:  []\n"
     ]
    }
   ],
   "source": [
    "print('Outstanding orders: ', my_broker.orders)\n",
    "print('Open trades: ', my_broker.trades)\n",
    "print('Open positions: ', my_broker.positions)"
   ]
  },
  {
   "cell_type": "code",
   "execution_count": 5,
   "metadata": {},
   "outputs": [],
   "source": [
    "current_trade = my_broker.trades[0]\n",
    "\n",
    "my_broker._new_order(1, boeing, -15, parent_trade=current_trade)\n",
    "my_broker.orders\n",
    "\n",
    "my_broker._process_orders()"
   ]
  },
  {
   "cell_type": "code",
   "execution_count": 6,
   "metadata": {},
   "outputs": [
    {
     "data": {
      "text/plain": [
       "14.0"
      ]
     },
     "execution_count": 6,
     "metadata": {},
     "output_type": "execute_result"
    }
   ],
   "source": [
    "current_trade.size"
   ]
  },
  {
   "cell_type": "code",
   "execution_count": 7,
   "metadata": {},
   "outputs": [
    {
     "data": {
      "text/plain": [
       "<quantipy.trading.Order at 0x7f4bd5da45d0>"
      ]
     },
     "execution_count": 7,
     "metadata": {},
     "output_type": "execute_result"
    }
   ],
   "source": [
    "my_broker.orders\n",
    "my_broker._new_order(1, boeing, -14, parent_trade=current_trade)\n"
   ]
  },
  {
   "cell_type": "code",
   "execution_count": 8,
   "metadata": {},
   "outputs": [
    {
     "data": {
      "text/plain": [
       "[<quantipy.trading.Trade at 0x7f4bd7d6b910>,\n",
       " <quantipy.trading.Trade at 0x7f4bd5da6090>]"
      ]
     },
     "execution_count": 8,
     "metadata": {},
     "output_type": "execute_result"
    }
   ],
   "source": [
    "my_broker._process_orders()\n",
    "\n",
    "my_broker.trades\n",
    "my_broker.closed_trades"
   ]
  },
  {
   "cell_type": "code",
   "execution_count": null,
   "metadata": {},
   "outputs": [],
   "source": []
  }
 ],
 "metadata": {
  "kernelspec": {
   "display_name": "tf",
   "language": "python",
   "name": "python3"
  },
  "language_info": {
   "codemirror_mode": {
    "name": "ipython",
    "version": 3
   },
   "file_extension": ".py",
   "mimetype": "text/x-python",
   "name": "python",
   "nbconvert_exporter": "python",
   "pygments_lexer": "ipython3",
   "version": "3.11.5"
  }
 },
 "nbformat": 4,
 "nbformat_minor": 2
}
