{
 "cells": [
  {
   "cell_type": "code",
   "execution_count": 1,
   "metadata": {},
   "outputs": [
    {
     "name": "stdout",
     "output_type": "stream",
     "text": [
      "Currency:  USD\n",
      "Is cash?:  True\n",
      "\n",
      "\n",
      "Stock name:  Apple\n",
      "Symbol:  AAPL\n",
      "Is cash?:  False\n"
     ]
    }
   ],
   "source": [
    "from quantipy.assets import Currency, Equity\n",
    "from quantipy.trading import Position\n",
    "\n",
    "# Creating a currency object\n",
    "usd = Currency('USD')\n",
    "print('Currency: ', usd.currency)\n",
    "print('Is cash?: ', usd.is_cash)\n",
    "\n",
    "print('\\n')\n",
    "\n",
    "# Creating an Equity object\n",
    "aapl = Equity(name='Apple', symbol='AAPL')\n",
    "print('Stock name: ', aapl.name)\n",
    "print('Symbol: ', aapl.symbol)\n",
    "print('Is cash?: ', aapl.is_cash)\n",
    "\n",
    "# Creating positions\n",
    "eur = Currency('EUR')\n",
    "cash_position = Position(eur, 10_000)\n",
    "boeing = Equity('Boeing', 'BA')\n",
    "boeing_position = Position(boeing, 10_000)"
   ]
  },
  {
   "cell_type": "code",
   "execution_count": 2,
   "metadata": {},
   "outputs": [],
   "source": [
    "from quantipy.trading import Order, Trade, Broker\n",
    "import yfinance as yf\n",
    "\n",
    "ba = yf.ticker.Ticker('BA')\n",
    "data1 = ba.history(start='2024-01-01', end='2024-03-01')\n",
    "aapl = yf.ticker.Ticker('AAPL')\n",
    "data2 = aapl.history()\n",
    "data = {'BA':data1, 'AAPL':data2}"
   ]
  },
  {
   "cell_type": "code",
   "execution_count": 3,
   "metadata": {},
   "outputs": [
    {
     "name": "stdout",
     "output_type": "stream",
     "text": [
      "Outstanding orders:  [<quantipy.trading.Order object at 0x7f71e427ba10>]\n"
     ]
    }
   ],
   "source": [
    "# Creating our broker with 10k euros initial capital\n",
    "my_broker = Broker(data=data, initial_capital=10_000, currency=eur)\n",
    "\n",
    "# Creating a new order for half of our equity on Boeing\n",
    "my_broker._new_order(boeing, 0.5)\n",
    "print('Outstanding orders: ', my_broker.orders)\n",
    "my_broker._process_orders()"
   ]
  },
  {
   "cell_type": "code",
   "execution_count": 4,
   "metadata": {},
   "outputs": [
    {
     "name": "stdout",
     "output_type": "stream",
     "text": [
      "Outstanding orders:  []\n",
      "Open trades:  [<quantipy.trading.Trade object at 0x7f71952d3790>]\n",
      "Open positions:  []\n"
     ]
    }
   ],
   "source": [
    "print('Outstanding orders: ', my_broker.orders)\n",
    "print('Open trades: ', my_broker.trades)\n",
    "print('Open positions: ', my_broker.positions)"
   ]
  },
  {
   "cell_type": "code",
   "execution_count": 5,
   "metadata": {},
   "outputs": [
    {
     "name": "stdout",
     "output_type": "stream",
     "text": [
      "\n",
      " closed a trade\n"
     ]
    }
   ],
   "source": [
    "current_trade = my_broker.trades[0]\n",
    "\n",
    "my_broker._new_order(boeing, -15, parent_trade=current_trade)\n",
    "my_broker.orders\n",
    "\n",
    "my_broker._process_orders()"
   ]
  },
  {
   "cell_type": "code",
   "execution_count": 6,
   "metadata": {},
   "outputs": [
    {
     "data": {
      "text/plain": [
       "9.0"
      ]
     },
     "execution_count": 6,
     "metadata": {},
     "output_type": "execute_result"
    }
   ],
   "source": [
    "current_trade.size"
   ]
  },
  {
   "cell_type": "code",
   "execution_count": 7,
   "metadata": {},
   "outputs": [
    {
     "data": {
      "text/plain": [
       "<quantipy.trading.Order at 0x7f71952e0d90>"
      ]
     },
     "execution_count": 7,
     "metadata": {},
     "output_type": "execute_result"
    }
   ],
   "source": [
    "my_broker.orders\n",
    "my_broker._new_order(boeing, -14, parent_trade=current_trade)\n"
   ]
  },
  {
   "cell_type": "code",
   "execution_count": 8,
   "metadata": {},
   "outputs": [
    {
     "name": "stdout",
     "output_type": "stream",
     "text": [
      "\n",
      " closed a trade\n"
     ]
    },
    {
     "data": {
      "text/plain": [
       "[<quantipy.trading.Trade at 0x7f71952d0090>,\n",
       " <quantipy.trading.Trade at 0x7f71952d3790>]"
      ]
     },
     "execution_count": 8,
     "metadata": {},
     "output_type": "execute_result"
    }
   ],
   "source": [
    "my_broker._process_orders()\n",
    "\n",
    "my_broker.trades\n",
    "my_broker.closed_trades"
   ]
  },
  {
   "cell_type": "code",
   "execution_count": 9,
   "metadata": {},
   "outputs": [
    {
     "name": "stdout",
     "output_type": "stream",
     "text": [
      "251.75999450683594\n",
      "[]\n",
      "243.91000366210938\n",
      "[]\n",
      "244.94000244140625\n",
      "[]\n",
      "249.0\n",
      "[]\n",
      "229.0\n",
      "[]\n",
      "225.75999450683594\n",
      "[]\n",
      "227.83999633789062\n",
      "[]\n",
      "222.66000366210938\n",
      "[]\n",
      "217.6999969482422\n",
      "[]\n",
      "200.52000427246094\n",
      "[]\n",
      "order set\n",
      "203.05999755859375\n",
      "[<quantipy.trading.Trade object at 0x7f719332f050>]\n",
      "\n",
      " closed a trade\n",
      "211.61000061035156\n",
      "[]\n",
      "215.02000427246094\n",
      "[]\n",
      "214.92999267578125\n",
      "[]\n",
      "211.5\n",
      "[]\n",
      "214.1300048828125\n",
      "[]\n",
      "201.8800048828125\n",
      "[]\n",
      "order set\n",
      "205.47000122070312\n",
      "[<quantipy.trading.Trade object at 0x7f719332f6d0>]\n",
      "205.19000244140625\n",
      "[<quantipy.trading.Trade object at 0x7f719332f6d0>]\n",
      "\n",
      " closed a trade\n",
      "200.44000244140625\n",
      "[]\n",
      "order set\n",
      "\n",
      " closed a trade\n",
      "211.0399932861328\n",
      "[]\n",
      "209.80999755859375\n",
      "[]\n",
      "209.3800048828125\n",
      "[]\n",
      "206.6300048828125\n",
      "[]\n",
      "208.5800018310547\n",
      "[]\n",
      "211.9199981689453\n",
      "[]\n",
      "209.22000122070312\n",
      "[]\n",
      "209.1999969482422\n",
      "[]\n",
      "209.3300018310547\n",
      "[]\n",
      "204.4600067138672\n",
      "[]\n",
      "order set\n",
      "203.3800048828125\n",
      "[<quantipy.trading.Trade object at 0x7f71933481d0>]\n",
      "205.3300018310547\n",
      "[<quantipy.trading.Trade object at 0x7f71933481d0>]\n",
      "203.88999938964844\n",
      "[<quantipy.trading.Trade object at 0x7f71933481d0>]\n",
      "203.3699951171875\n",
      "[<quantipy.trading.Trade object at 0x7f71933481d0>]\n",
      "201.57000732421875\n",
      "[<quantipy.trading.Trade object at 0x7f71933481d0>]\n",
      "201.5\n",
      "[<quantipy.trading.Trade object at 0x7f71933481d0>]\n",
      "\n",
      " closed a trade\n",
      "200.8300018310547\n",
      "[]\n",
      "order set\n",
      "200.5399932861328\n",
      "[<quantipy.trading.Trade object at 0x7f71933485d0>]\n",
      "201.39999389648438\n",
      "[<quantipy.trading.Trade object at 0x7f71933485d0>]\n",
      "207.0\n",
      "[<quantipy.trading.Trade object at 0x7f71933485d0>]\n",
      "\n",
      " closed a trade\n"
     ]
    },
    {
     "data": {
      "text/plain": [
       "array([10000.        , 10000.        , 10000.        , 10000.        ,\n",
       "       10000.        , 10000.        , 10000.        , 10000.        ,\n",
       "       10000.        , 10000.        ,  9972.06964111, 10312.12976074,\n",
       "       10312.12976074, 10312.12976074, 10312.12976074, 10312.12976074,\n",
       "       10312.12976074, 10381.62973022, 10367.62979126, 10108.12966919,\n",
       "       10308.04975891, 10308.04975891, 10308.04975891, 10308.04975891,\n",
       "       10308.04975891, 10308.04975891, 10308.04975891, 10308.04975891,\n",
       "       10308.04975891, 10308.04975891, 10133.12014771, 10228.66999817,\n",
       "       10158.10987854, 10132.62966919, 10044.43026733, 10040.99990845,\n",
       "        9967.49990845,  9895.46984863,  9937.60987854, 10212.01017761])"
      ]
     },
     "execution_count": 9,
     "metadata": {},
     "output_type": "execute_result"
    }
   ],
   "source": [
    "from quantipy.trading import Strategy\n",
    "from quantipy.backtest import Backtester\n",
    "\n",
    "class TestStrategy(Strategy):\n",
    "    def __init__(self, broker, asset, tp=210, sl=200, stop=205):\n",
    "        super().__init__(broker)\n",
    "        self.__asset = asset\n",
    "        self.__tp = tp\n",
    "        self.__sl = sl\n",
    "        self.__stop = stop\n",
    "    \n",
    "    @property\n",
    "    def asset(self):\n",
    "        return self.__asset \n",
    "    \n",
    "    def next(self):\n",
    "        if self._Strategy__broker.trades == [] and self._Strategy__broker.last_price(self.__asset) < 205:\n",
    "            self.buy(self.__asset,\n",
    "                     stop_loss=self.__sl,\n",
    "                     take_profit=self.__tp)\n",
    "            print('order set')\n",
    "\n",
    "my_broker = Broker(data=data, initial_capital=10_000, currency=eur)\n",
    "strategy = TestStrategy(my_broker, boeing)\n",
    "\n",
    "backtester = Backtester(data)\n",
    "eq = backtester.run(strategy)\n",
    "\n",
    "eq"
   ]
  },
  {
   "cell_type": "code",
   "execution_count": 10,
   "metadata": {},
   "outputs": [
    {
     "data": {
      "text/plain": [
       "[<matplotlib.lines.Line2D at 0x7f7191fd9150>]"
      ]
     },
     "execution_count": 10,
     "metadata": {},
     "output_type": "execute_result"
    },
    {
     "data": {
      "image/png": "[encoded data removed]",
      "text/plain": [
       "<Figure size 640x480 with 1 Axes>"
      ]
     },
     "metadata": {},
     "output_type": "display_data"
    }
   ],
   "source": [
    "import matplotlib.pyplot as plt\n",
    "plt.plot(eq)"
   ]
  },
  {
   "cell_type": "code",
   "execution_count": 11,
   "metadata": {},
   "outputs": [
    {
     "data": {
      "text/plain": [
       "[<matplotlib.lines.Line2D at 0x7f7192048e50>]"
      ]
     },
     "execution_count": 11,
     "metadata": {},
     "output_type": "execute_result"
    },
    {
     "data": {
      "image/png": "[encoded data removed]",
      "text/plain": [
       "<Figure size 640x480 with 1 Axes>"
      ]
     },
     "metadata": {},
     "output_type": "display_data"
    }
   ],
   "source": [
    "plt.plot(data['BA'].Close)"
   ]
  },
  {
   "cell_type": "code",
   "execution_count": 13,
   "metadata": {},
   "outputs": [
    {
     "data": {
      "text/plain": [
       "[<quantipy.trading.Trade at 0x7f719332f050>,\n",
       " <quantipy.trading.Trade at 0x7f719332f6d0>,\n",
       " <quantipy.trading.Trade at 0x7f719332ec50>,\n",
       " <quantipy.trading.Trade at 0x7f71933481d0>,\n",
       " <quantipy.trading.Trade at 0x7f71933485d0>]"
      ]
     },
     "execution_count": 13,
     "metadata": {},
     "output_type": "execute_result"
    }
   ],
   "source": [
    "my_broker.closed_trades"
   ]
  }
 ],
 "metadata": {
  "kernelspec": {
   "display_name": "tf",
   "language": "python",
   "name": "python3"
  },
  "language_info": {
   "codemirror_mode": {
    "name": "ipython",
    "version": 3
   },
   "file_extension": ".py",
   "mimetype": "text/x-python",
   "name": "python",
   "nbconvert_exporter": "python",
   "pygments_lexer": "ipython3",
   "version": "3.11.5"
  }
 },
 "nbformat": 4,
 "nbformat_minor": 2
}
