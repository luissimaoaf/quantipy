{
 "cells": [
  {
   "cell_type": "code",
   "execution_count": 1,
   "metadata": {},
   "outputs": [
    {
     "name": "stdout",
     "output_type": "stream",
     "text": [
      "Currency:  USD\n",
      "Is cash?:  True\n",
      "\n",
      "\n",
      "Stock name:  Apple\n",
      "Symbol:  AAPL\n",
      "Is cash?:  False\n"
     ]
    }
   ],
   "source": [
    "from quantipy.assets import Currency, Equity\n",
    "from quantipy.trading import Position\n",
    "\n",
    "# Creating a currency object\n",
    "usd = Currency('USD')\n",
    "print('Currency: ', usd.currency)\n",
    "print('Is cash?: ', usd.is_cash)\n",
    "\n",
    "print('\\n')\n",
    "\n",
    "# Creating an Equity object\n",
    "aapl = Equity(name='Apple', symbol='AAPL')\n",
    "print('Stock name: ', aapl.name)\n",
    "print('Symbol: ', aapl.symbol)\n",
    "print('Is cash?: ', aapl.is_cash)\n",
    "\n",
    "# Creating positions\n",
    "eur = Currency('EUR')\n",
    "cash_position = Position(eur, 10_000)\n",
    "boeing = Equity('Boeing', 'BA')\n",
    "boeing_position = Position(boeing, 10_000)"
   ]
  },
  {
   "cell_type": "code",
   "execution_count": 2,
   "metadata": {},
   "outputs": [],
   "source": [
    "from quantipy.trading import Order, Trade, Broker\n",
    "import yfinance as yf\n",
    "\n",
    "ba = yf.ticker.Ticker('BA')\n",
    "data1 = ba.history(start='2024-01-01', end='2024-03-01')\n",
    "aapl = yf.ticker.Ticker('AAPL')\n",
    "data2 = aapl.history()\n",
    "data = {'BA':data1, 'AAPL':data2}"
   ]
  },
  {
   "cell_type": "code",
   "execution_count": 3,
   "metadata": {},
   "outputs": [
    {
     "name": "stdout",
     "output_type": "stream",
     "text": [
      "Outstanding orders:  [<quantipy.trading.Order object at 0x7f85f5284510>]\n"
     ]
    }
   ],
   "source": [
    "# Creating our broker with 10k euros initial capital\n",
    "my_broker = Broker(data=data, initial_capital=10_000, currency=eur)\n",
    "\n",
    "# Creating a new order for half of our equity on Boeing\n",
    "my_broker._new_order(boeing, 0.5)\n",
    "print('Outstanding orders: ', my_broker.orders)\n",
    "my_broker._process_orders()"
   ]
  },
  {
   "cell_type": "code",
   "execution_count": 4,
   "metadata": {},
   "outputs": [
    {
     "name": "stdout",
     "output_type": "stream",
     "text": [
      "Outstanding orders:  []\n",
      "Open trades:  [<quantipy.trading.Trade object at 0x7f8600c51290>]\n",
      "Open positions:  []\n"
     ]
    }
   ],
   "source": [
    "print('Outstanding orders: ', my_broker.orders)\n",
    "print('Open trades: ', my_broker.trades)\n",
    "print('Open positions: ', my_broker.positions)"
   ]
  },
  {
   "cell_type": "code",
   "execution_count": 5,
   "metadata": {},
   "outputs": [],
   "source": [
    "current_trade = my_broker.trades[0]\n",
    "\n",
    "my_broker._new_order(boeing, -15, parent_trade=current_trade)\n",
    "my_broker.orders\n",
    "\n",
    "my_broker._process_orders()"
   ]
  },
  {
   "cell_type": "code",
   "execution_count": 6,
   "metadata": {},
   "outputs": [
    {
     "data": {
      "text/plain": [
       "9.0"
      ]
     },
     "execution_count": 6,
     "metadata": {},
     "output_type": "execute_result"
    }
   ],
   "source": [
    "current_trade.size"
   ]
  },
  {
   "cell_type": "code",
   "execution_count": 7,
   "metadata": {},
   "outputs": [
    {
     "data": {
      "text/plain": [
       "<quantipy.trading.Order at 0x7f85f720cd10>"
      ]
     },
     "execution_count": 7,
     "metadata": {},
     "output_type": "execute_result"
    }
   ],
   "source": [
    "my_broker.orders\n",
    "my_broker._new_order(boeing, -14, parent_trade=current_trade)\n"
   ]
  },
  {
   "cell_type": "code",
   "execution_count": 8,
   "metadata": {},
   "outputs": [
    {
     "data": {
      "text/plain": [
       "[<quantipy.trading.Trade at 0x7f85f7e29650>,\n",
       " <quantipy.trading.Trade at 0x7f8600c51290>]"
      ]
     },
     "execution_count": 8,
     "metadata": {},
     "output_type": "execute_result"
    }
   ],
   "source": [
    "my_broker._process_orders()\n",
    "\n",
    "my_broker.trades\n",
    "my_broker.closed_trades"
   ]
  },
  {
   "cell_type": "code",
   "execution_count": 9,
   "metadata": {},
   "outputs": [
    {
     "name": "stdout",
     "output_type": "stream",
     "text": [
      "251.75999450683594\n",
      "[]\n",
      "243.91000366210938\n",
      "[]\n",
      "244.94000244140625\n",
      "[]\n",
      "249.0\n",
      "[]\n",
      "229.0\n",
      "[]\n",
      "225.75999450683594\n",
      "[]\n",
      "227.83999633789062\n",
      "[]\n",
      "222.66000366210938\n",
      "[]\n",
      "217.6999969482422\n",
      "[]\n",
      "200.52000427246094\n",
      "[]\n",
      "order set\n",
      "203.05999755859375\n",
      "[<quantipy.trading.Trade object at 0x7f85f52b2850>]\n",
      "order set\n",
      "211.61000061035156\n",
      "[<quantipy.trading.Trade object at 0x7f85f52b2850>]\n",
      "215.02000427246094\n",
      "[<quantipy.trading.Trade object at 0x7f85f52b2850>]\n",
      "214.92999267578125\n",
      "[<quantipy.trading.Trade object at 0x7f85f52b2850>]\n",
      "211.5\n",
      "[<quantipy.trading.Trade object at 0x7f85f52b2850>]\n",
      "214.1300048828125\n",
      "[<quantipy.trading.Trade object at 0x7f85f52b2850>]\n",
      "201.8800048828125\n",
      "[<quantipy.trading.Trade object at 0x7f85f52b2850>]\n",
      "order set\n",
      "205.47000122070312\n",
      "[<quantipy.trading.Trade object at 0x7f85f52b2850>]\n",
      "205.19000244140625\n",
      "[<quantipy.trading.Trade object at 0x7f85f52b2850>]\n",
      "200.44000244140625\n",
      "[<quantipy.trading.Trade object at 0x7f85f52b2850>]\n",
      "order set\n",
      "211.0399932861328\n",
      "[<quantipy.trading.Trade object at 0x7f85f52b2850>]\n",
      "209.80999755859375\n",
      "[<quantipy.trading.Trade object at 0x7f85f52b2850>]\n",
      "209.3800048828125\n",
      "[<quantipy.trading.Trade object at 0x7f85f52b2850>]\n",
      "206.6300048828125\n",
      "[<quantipy.trading.Trade object at 0x7f85f52b2850>]\n",
      "208.5800018310547\n",
      "[<quantipy.trading.Trade object at 0x7f85f52b2850>]\n",
      "211.9199981689453\n",
      "[<quantipy.trading.Trade object at 0x7f85f52b2850>]\n",
      "209.22000122070312\n",
      "[<quantipy.trading.Trade object at 0x7f85f52b2850>]\n",
      "209.1999969482422\n",
      "[<quantipy.trading.Trade object at 0x7f85f52b2850>]\n",
      "209.3300018310547\n",
      "[<quantipy.trading.Trade object at 0x7f85f52b2850>]\n",
      "204.4600067138672\n",
      "[<quantipy.trading.Trade object at 0x7f85f52b2850>]\n",
      "order set\n",
      "203.3800048828125\n",
      "[<quantipy.trading.Trade object at 0x7f85f52b2850>]\n",
      "order set\n",
      "205.3300018310547\n",
      "[<quantipy.trading.Trade object at 0x7f85f52b2850>]\n",
      "203.88999938964844\n",
      "[<quantipy.trading.Trade object at 0x7f85f52b2850>]\n",
      "order set\n",
      "203.3699951171875\n",
      "[<quantipy.trading.Trade object at 0x7f85f52b2850>]\n",
      "order set\n",
      "201.57000732421875\n",
      "[<quantipy.trading.Trade object at 0x7f85f52b2850>]\n",
      "order set\n",
      "201.5\n",
      "[<quantipy.trading.Trade object at 0x7f85f52b2850>]\n",
      "order set\n",
      "200.8300018310547\n",
      "[<quantipy.trading.Trade object at 0x7f85f52b2850>]\n",
      "order set\n",
      "200.5399932861328\n",
      "[<quantipy.trading.Trade object at 0x7f85f52b2850>]\n",
      "order set\n",
      "201.39999389648438\n",
      "[<quantipy.trading.Trade object at 0x7f85f52b2850>]\n",
      "order set\n",
      "207.0\n",
      "[<quantipy.trading.Trade object at 0x7f85f52b2850>]\n"
     ]
    },
    {
     "data": {
      "text/plain": [
       "array([10000.        , 10000.        , 10000.        , 10000.        ,\n",
       "       10000.        , 10000.        , 10000.        , 10000.        ,\n",
       "       10000.        , 10000.        ,  9972.06964111, 10391.01979065,\n",
       "       10558.10997009, 10553.69940186, 10385.62976074, 10514.5       ,\n",
       "        9914.25      , 10090.15982056, 10076.43988037,  9843.68988037,\n",
       "       10363.08943176, 10302.81964111, 10281.75      , 10147.        ,\n",
       "       10242.54985046, 10406.20967102, 10273.90982056, 10272.92961121,\n",
       "       10279.29985046, 10040.67008972,  9987.75      , 10083.29985046,\n",
       "       10012.73973083,  9987.25952148,  9899.06011963,  9895.62976074,\n",
       "        9862.79985046,  9848.58943176,  9890.72946167, 10165.12976074])"
      ]
     },
     "execution_count": 9,
     "metadata": {},
     "output_type": "execute_result"
    }
   ],
   "source": [
    "from quantipy.trading import Strategy\n",
    "from quantipy.backtest import Backtester\n",
    "\n",
    "class TestStrategy(Strategy):\n",
    "    def __init__(self, broker, asset, tp=210, sl=200, stop=205):\n",
    "        super().__init__(broker)\n",
    "        self.__asset = asset\n",
    "        self.__tp = tp\n",
    "        self.__sl = sl\n",
    "        self.__stop = stop\n",
    "    \n",
    "    @property\n",
    "    def asset(self):\n",
    "        return self.__asset \n",
    "    \n",
    "    def next(self):\n",
    "        if self._Strategy__broker.orders == [] and self._Strategy__broker.last_price(self.__asset) < 205:\n",
    "            self.buy(self.__asset,\n",
    "                     stop_loss=self.__sl,\n",
    "                     take_profit=self.__tp)\n",
    "            print('order set')\n",
    "\n",
    "my_broker = Broker(data=data, initial_capital=10_000, currency=eur)\n",
    "strategy = TestStrategy(my_broker, boeing)\n",
    "\n",
    "backtester = Backtester(data)\n",
    "eq = backtester.run(strategy)\n",
    "\n",
    "eq"
   ]
  },
  {
   "cell_type": "code",
   "execution_count": 10,
   "metadata": {},
   "outputs": [
    {
     "data": {
      "text/plain": [
       "[<matplotlib.lines.Line2D at 0x7f85f3f77fd0>]"
      ]
     },
     "execution_count": 10,
     "metadata": {},
     "output_type": "execute_result"
    },
    {
     "data": {
      "image/png": "[encoded data removed]",
      "text/plain": [
       "<Figure size 640x480 with 1 Axes>"
      ]
     },
     "metadata": {},
     "output_type": "display_data"
    }
   ],
   "source": [
    "import matplotlib.pyplot as plt\n",
    "plt.plot(eq)"
   ]
  },
  {
   "cell_type": "code",
   "execution_count": 16,
   "metadata": {},
   "outputs": [],
   "source": []
  }
 ],
 "metadata": {
  "kernelspec": {
   "display_name": "tf",
   "language": "python",
   "name": "python3"
  },
  "language_info": {
   "codemirror_mode": {
    "name": "ipython",
    "version": 3
   },
   "file_extension": ".py",
   "mimetype": "text/x-python",
   "name": "python",
   "nbconvert_exporter": "python",
   "pygments_lexer": "ipython3",
   "version": "3.11.5"
  }
 },
 "nbformat": 4,
 "nbformat_minor": 2
}
